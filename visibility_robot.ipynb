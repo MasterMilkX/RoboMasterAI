{
 "cells": [
  {
   "cell_type": "code",
   "execution_count": 5,
   "metadata": {},
   "outputs": [],
   "source": [
    "from __future__ import print_function \n",
    "import visilibity as vis\n",
    "\n",
    "# Used to plot the example\n",
    "import matplotlib.pylab as plt\n",
    "\n",
    "# Used in the create_cone function\n",
    "import math"
   ]
  },
  {
   "cell_type": "code",
   "execution_count": 6,
   "metadata": {},
   "outputs": [],
   "source": [
    "#list of functions in visilibity library\n",
    "#dir(vis)"
   ]
  },
  {
   "cell_type": "code",
   "execution_count": 7,
   "metadata": {},
   "outputs": [],
   "source": [
    "#size of the y axis, used to convert arena coordinates to polygon coordinates\n",
    "#global y_size\n",
    "y_size = 28"
   ]
  },
  {
   "cell_type": "code",
   "execution_count": 8,
   "metadata": {},
   "outputs": [],
   "source": [
    "#build the outer boundary of the polygon\n",
    "def outer(y_up, y_down, x_left, x_right): ## use arena coordinates\n",
    "\n",
    "    #list points ccw\n",
    "    a = vis.Point(x_left, y_size - (y_down - 1))    \n",
    "    b = vis.Point(x_right, y_size - (y_down - 1))\n",
    "    c = vis.Point(x_right, y_size - (y_up - 1))\n",
    "    d = vis.Point(x_left, y_size - (y_up - 1))\n",
    "\n",
    "    # Values for graph\n",
    "    wall_x = [a.x(), b.x(), c.x(), d.x(), a.x()]\n",
    "    wall_y = [a.y(), b.y(), c.y(), d.y(), a.y()]\n",
    "    \n",
    "    # Create the outer boundary polygon\n",
    "    walls = vis.Polygon([a, b, c, d])\n",
    "    \n",
    "    return wall_x, wall_y, walls\n",
    "    "
   ]
  },
  {
   "cell_type": "code",
   "execution_count": 9,
   "metadata": {},
   "outputs": [],
   "source": [
    "#build the polygon holes\n",
    "def hole(y_up, y_down, x_left, x_right): ## use arena coordinates\n",
    "    \n",
    "    #points are listed in cc order\n",
    "    #list points cw\n",
    "    a = vis.Point(x_left, y_size - (y_down-1))\n",
    "    b = vis.Point(x_left, y_size - (y_up-1))\n",
    "    c = vis.Point(x_right, y_size - (y_up-1))\n",
    "    d = vis.Point(x_right, y_size - (y_down-1))\n",
    "        \n",
    "    # values for graph\\\n",
    "    hole_x = [a.x(), b.x(), c.x(), d.x(), a.x()]\n",
    "    hole_y = [a.y(), b.y(), c.y(), d.y(), a.y()]\n",
    "    \n",
    "   # Create the hole polygon\n",
    "    hole = vis.Polygon([a, b, c, d])\n",
    "    \n",
    "    return hole_x, hole_y, hole\n",
    "    "
   ]
  },
  {
   "cell_type": "code",
   "execution_count": 10,
   "metadata": {},
   "outputs": [],
   "source": [
    "#build center diamond polygon\n",
    "#list points cw\n",
    "p1 =vis.Point(24, 16)\n",
    "p2 =vis.Point(23, 15)\n",
    "p3 =vis.Point(23, 14)\n",
    "p4 =vis.Point(24, 13)\n",
    "p5 =vis.Point(25, 13)\n",
    "p6 =vis.Point(26, 14)\n",
    "p7 =vis.Point(26, 15)\n",
    "p8 =vis.Point(25, 16)\n",
    "\n",
    "\n",
    "# Load the values of the hole polygon in order to draw it later\n",
    "diam_x = [p2.x(), p3.x(), p4.x(), p5.x(), p6.x(), p7.x(), p8.x(), p1.x(), p2.x()]\n",
    "diam_y = [p2.y(), p3.y(), p4.y(), p5.y(), p6.y(), p7.y(), p8.y(), p1.y(), p2.y()]\n",
    "\n",
    "# Create the hole polygon\n",
    "diam = vis.Polygon([p2, p3, p4, p5, p6, p7, p8, p1])\n"
   ]
  },
  {
   "cell_type": "code",
   "execution_count": 11,
   "metadata": {},
   "outputs": [],
   "source": [
    "#point location (for robots)\n",
    "def a_point(x,y): #input arena coordinates\n",
    "    return vis.Point(x, y_size - (y - 1))   \n"
   ]
  },
  {
   "cell_type": "code",
   "execution_count": 12,
   "metadata": {},
   "outputs": [],
   "source": [
    "#build the arena\n",
    "wall_x, wall_y, walls = outer(1,28,1,48)  #y_up, y_down, x_left, x_right, use arena format\n",
    "\n",
    "\n",
    "huecos_input = [[ 8,  8.1,  2,  7],  #format y_up, y_down, x_left, x_right, use arena format\n",
    "                [14,   15, 11, 14],\n",
    "                [22,   27, 10, 11],\n",
    "                [ 7,    8, 22, 27],\n",
    "                [21,   22, 22, 27],\n",
    "                [14,   15, 35, 38],\n",
    "                [21, 21.1, 42, 47],\n",
    "                [ 2,    7, 38, 39],\n",
    "               ]\n",
    "huecos = []\n",
    "for item in huecos_input:\n",
    "    huecos.append(hole(item[0], item[1], item[2], item[3]))\n",
    "    "
   ]
  },
  {
   "cell_type": "code",
   "execution_count": 13,
   "metadata": {},
   "outputs": [],
   "source": [
    "# build and validate environment\n",
    "# Define an epsilon value (should be != 0.0)\n",
    "epsilon = 0.0000001\n",
    "\n",
    "# Create environment, wall will be the outer boundary because\n",
    "# is the first polygon in the list. The other polygons will be holes\n",
    "\n",
    "env = vis.Environment([walls, \n",
    "                       huecos[0][2], \n",
    "                       huecos[1][2], \n",
    "                       huecos[2][2], \n",
    "                       huecos[3][2], \n",
    "                       huecos[4][2], \n",
    "                       huecos[5][2], \n",
    "                       huecos[6][2], \n",
    "                       huecos[7][2], \n",
    "                       diam])\n"
   ]
  },
  {
   "cell_type": "code",
   "execution_count": 14,
   "metadata": {},
   "outputs": [],
   "source": [
    "#create points location for robots\n",
    "robot = a_point(5,5)\n",
    "red = a_point(10,15)\n",
    "blue = a_point(25,10)\n",
    "yellow = a_point(3,3)"
   ]
  },
  {
   "cell_type": "code",
   "execution_count": 15,
   "metadata": {},
   "outputs": [],
   "source": [
    "# create cone polygon representing robot camp of vision\n",
    "# five inputs(robot, radius, angle, opening, resolution).\n",
    "#   'robot': is the location of robot\n",
    "#   'radius': is the longitude from 'robot' camp of vision\n",
    "#   'angle': is the direcction of the cone. 0 = ->\n",
    "#   'resolution': is the number of degrees one point and the next in the arc.\n",
    "\n",
    "def create_cone(robot, radio, angle, opening, resolution=1):\n",
    "    \n",
    "    # Define the list for the points of the cone-shape polygon\n",
    "    p=[]\n",
    "    \n",
    "    # The fisrt point will be the vertex of the cone\n",
    "    p.append(robot)\n",
    "\n",
    "    # Define the start and end of the arc\n",
    "    start = angle - opening\n",
    "    end = angle + opening\n",
    "    \n",
    "    for i in range(start, end, resolution):\n",
    "        \n",
    "        # Convert start angle from degrees to radians\n",
    "        rad = math.radians(i)\n",
    "        \n",
    "        # Calculate the off-set of the first point of the arc\n",
    "        x = radio*math.cos(rad)\n",
    "        y = radio*math.sin(rad)\n",
    "        \n",
    "        # Add the off-set to the vertex point\n",
    "        new_x = robot.x() + x\n",
    "        new_y = robot.y() + y\n",
    "        \n",
    "        # Add the first point of the arc to the list\n",
    "        p.append( vis.Point(new_x, new_y) )\n",
    "    \n",
    "    # Add the last point of the arc\n",
    "    rad = math.radians(end)\n",
    "    x = radio*math.cos(rad)\n",
    "    y = radio*math.sin(rad)\n",
    "    new_x = robot.x() + x\n",
    "    new_y = robot.y() + y\n",
    "    p.append( vis.Point(new_x, new_y) )\n",
    "    \n",
    "    return vis.Polygon(p)"
   ]
  },
  {
   "cell_type": "code",
   "execution_count": 105,
   "metadata": {},
   "outputs": [],
   "source": [
    "#create the cone for our robot\n",
    "#radius 56 is the diagonal of the arena (ensures all arena in sight)\n",
    "cone = create_cone(robot, 25, 360, 40, 20) #point, radio, angle, opening, resolution=1):"
   ]
  },
  {
   "cell_type": "code",
   "execution_count": 106,
   "metadata": {},
   "outputs": [],
   "source": [
    "#create the 360 visibility polygon based on robot location\n",
    "robot.snap_to_boundary_of(env, epsilon)\n",
    "robot.snap_to_vertices_of(env, epsilon)\n",
    "\n",
    "vision360 = vis.Visibility_Polygon(robot, env, epsilon)\n",
    "\n"
   ]
  },
  {
   "cell_type": "code",
   "execution_count": 107,
   "metadata": {},
   "outputs": [],
   "source": [
    "def i_see_you(enemy, vision360, cone):\n",
    "    if enemy._in(vision360, epsilon) and enemy._in(cone, epsilon):\n",
    "        return True\n",
    "    "
   ]
  },
  {
   "cell_type": "code",
   "execution_count": 108,
   "metadata": {},
   "outputs": [],
   "source": [
    "def you_see_me(enemy, vision360):\n",
    "    if enemy._in(vision360, epsilon):\n",
    "        return True\n",
    "    "
   ]
  },
  {
   "cell_type": "code",
   "execution_count": 109,
   "metadata": {},
   "outputs": [
    {
     "data": {
      "image/png": "[encoded data removed]",
      "text/plain": [
       "<Figure size 432x288 with 1 Axes>"
      ]
     },
     "metadata": {
      "needs_background": "light"
     },
     "output_type": "display_data"
    }
   ],
   "source": [
    "\n",
    "#visualization\n",
    "\n",
    "def save_print(polygon):\n",
    "    end_pos_x = []\n",
    "    end_pos_y = []\n",
    "    for i in range(polygon.n()):\n",
    "        x = polygon[i].x()\n",
    "        y = polygon[i].y()\n",
    "        \n",
    "        end_pos_x.append(x)\n",
    "        end_pos_y.append(y)\n",
    "                       \n",
    "    return end_pos_x, end_pos_y \n",
    "\n",
    "\n",
    "\n",
    "# vision360 polygon\n",
    "point_x , point_y  = save_print(vision360)\n",
    "point_x.append(vision360[0].x())\n",
    "point_y.append(vision360[0].y())    \n",
    "\n",
    "# Set the title\n",
    "plt.title('VisiLibity Test')\n",
    "\n",
    "# Set the labels for the axis\n",
    "plt.xlabel('X Position')\n",
    "plt.ylabel('Y Position')\n",
    "\n",
    "# Plot the outer boundary with black color\n",
    "plt.plot(wall_x, wall_y, 'black')\n",
    "\n",
    "# Plot the position of the observer with a green dot ('go')\n",
    "plt.plot([robot.x()], [robot.y()], 'go')\n",
    "\n",
    "# Plot the position of 'end' with a green dot ('go')\n",
    "plt.plot([red.x()],[red.y()], 'ro')\n",
    "\n",
    "# Plot the position of 'end_visible' with a green dot ('go')\n",
    "plt.plot([blue.x()],[blue.y()], 'bo')\n",
    "\n",
    "plt.plot([yellow.x()], [yellow.y()], 'yo')\n",
    "\n",
    "# Plot the visibility polygon of 'robot'\n",
    "plt.plot(point_x, point_y)\n",
    "\n",
    "# Plot the hole polygon with red color\n",
    "plt.plot(huecos[0][0], huecos[0][1], 'r')\n",
    "\n",
    "# Plot the hole polygon with red color\n",
    "plt.plot(huecos[1][0], huecos[1][1], 'r')\n",
    "\n",
    "# Plot the hole polygon with red color\n",
    "plt.plot(huecos[2][0], huecos[2][1], 'r')\n",
    "\n",
    "# Plot the hole polygon with red color\n",
    "plt.plot(huecos[3][0], huecos[3][1], 'r')\n",
    "\n",
    "# Plot the hole polygon with red color\n",
    "plt.plot(huecos[4][0], huecos[4][1], 'r')\n",
    "\n",
    "# Plot the hole polygon with red color\n",
    "plt.plot(huecos[5][0], huecos[5][1], 'r')\n",
    "\n",
    "# Plot the hole polygon with red color\n",
    "plt.plot(huecos[6][0], huecos[6][1], 'r')\n",
    "\n",
    "# Plot the hole polygon with red color\n",
    "plt.plot(huecos[7][0], huecos[7][1], 'r')\n",
    "\n",
    "# Plot the hole polygon with red color\n",
    "plt.plot(diam_x, diam_y, 'r')\n",
    "\n",
    "# Plot visibility cone\n",
    "cone_x, cone_y = save_print(cone)\n",
    "cone_x.append(cone_x[0])\n",
    "cone_y.append(cone_y[0])\n",
    "plt.plot([robot.x()], [robot.y()], 'go')\n",
    "plt.plot(cone_x, cone_y)\n",
    "\n",
    "\n",
    "# Show the plot\n",
    "plt.show()\n",
    "    "
   ]
  },
  {
   "cell_type": "code",
   "execution_count": 94,
   "metadata": {},
   "outputs": [],
   "source": [
    "#here blue enemy is in sight, red is not, yellow can see me, but I can't see it\n"
   ]
  },
  {
   "cell_type": "code",
   "execution_count": 77,
   "metadata": {},
   "outputs": [
    {
     "data": {
      "text/plain": [
       "False"
      ]
     },
     "execution_count": 77,
     "metadata": {},
     "output_type": "execute_result"
    }
   ],
   "source": [
    "i_see_you(blue, vision360, cone) is True"
   ]
  },
  {
   "cell_type": "code",
   "execution_count": 28,
   "metadata": {},
   "outputs": [
    {
     "data": {
      "text/plain": [
       "True"
      ]
     },
     "execution_count": 28,
     "metadata": {},
     "output_type": "execute_result"
    }
   ],
   "source": [
    "you_see_me(blue, vision360) is True"
   ]
  },
  {
   "cell_type": "code",
   "execution_count": null,
   "metadata": {},
   "outputs": [],
   "source": []
  }
 ],
 "metadata": {
  "kernelspec": {
   "display_name": "Python 3",
   "language": "python",
   "name": "python3"
  },
  "language_info": {
   "codemirror_mode": {
    "name": "ipython",
    "version": 3
   },
   "file_extension": ".py",
   "mimetype": "text/x-python",
   "name": "python",
   "nbconvert_exporter": "python",
   "pygments_lexer": "ipython3",
   "version": "3.8.5"
  }
 },
 "nbformat": 4,
 "nbformat_minor": 5
}
